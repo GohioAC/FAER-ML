{
  "nbformat": 4,
  "nbformat_minor": 0,
  "metadata": {
    "colab": {
      "name": "Python.ipynb",
      "version": "0.3.2",
      "provenance": []
    },
    "kernelspec": {
      "display_name": "Python 3",
      "language": "python",
      "name": "python3"
    }
  },
  "cells": [
    {
      "metadata": {
        "id": "2SarxRlaFSwN",
        "colab_type": "text"
      },
      "cell_type": "markdown",
      "source": [
        "# Introduction to Google Colaboratory\n",
        "\n",
        "A notebook is a list of cells. Cells contain either explanatory text or executable code and its output. Click a cell to select it.\n"
      ]
    },
    {
      "metadata": {
        "id": "rgnViFNUlKTq",
        "colab_type": "text"
      },
      "cell_type": "markdown",
      "source": [
        "## 1. Code cells\n",
        "Below is a **code cell**. Once the toolbar button indicates CONNECTED, click in the cell to select it and execute the contents in the following ways:\n",
        "\n",
        "* Click the **Play icon** in the left gutter of the cell.\n",
        "* Type **Ctrl+Enter** to run the cell in place.\n",
        "* Type **Shift+Enter** to run the cell and move focus to the next cell (adding one if none exists).\n",
        "\n",
        "There are additional options for running some or all cells in the **Runtime** menu.\n"
      ]
    },
    {
      "metadata": {
        "id": "RNuAnpK4GjjK",
        "colab_type": "code",
        "colab": {
          "base_uri": "https://localhost:8080/",
          "height": 35
        },
        "outputId": "586c9aa0-7ad2-43e5-d6cc-b9200b184cf8"
      },
      "cell_type": "code",
      "source": [
        "a = 10\n",
        "a"
      ],
      "execution_count": 45,
      "outputs": [
        {
          "output_type": "execute_result",
          "data": {
            "text/plain": [
              "10"
            ]
          },
          "metadata": {
            "tags": []
          },
          "execution_count": 45
        }
      ]
    },
    {
      "metadata": {
        "id": "QGFpvIAdG-lg",
        "colab_type": "text"
      },
      "cell_type": "markdown",
      "source": [
        "## 2. Tab Completion\n",
        "Run the first cell to import numpy, then press TAB after np.random. In the second cell to observe tab-completion at work."
      ]
    },
    {
      "metadata": {
        "id": "pPLmEnxKHhqd",
        "colab_type": "code",
        "colab": {}
      },
      "cell_type": "code",
      "source": [
        "import numpy as np"
      ],
      "execution_count": 0,
      "outputs": []
    },
    {
      "metadata": {
        "id": "g1kZ8HekHnqu",
        "colab_type": "code",
        "colab": {}
      },
      "cell_type": "code",
      "source": [
        "np.random."
      ],
      "execution_count": 0,
      "outputs": []
    },
    {
      "metadata": {
        "id": "6HzMq62aH2YC",
        "colab_type": "text"
      },
      "cell_type": "markdown",
      "source": [
        "Tab completion after **(** brings up a tooltip with the docstring:"
      ]
    },
    {
      "metadata": {
        "id": "JDT1RRF5Hrq9",
        "colab_type": "code",
        "colab": {}
      },
      "cell_type": "code",
      "source": [
        "np.random.rand("
      ],
      "execution_count": 0,
      "outputs": []
    },
    {
      "metadata": {
        "id": "Bi9nykyyH_r9",
        "colab_type": "text"
      },
      "cell_type": "markdown",
      "source": [
        "You can get a detailed help popup by adding a **?** after the object or method name and typing **Shift+Enter**."
      ]
    },
    {
      "metadata": {
        "id": "jj0z7zGbHvKw",
        "colab_type": "code",
        "colab": {}
      },
      "cell_type": "code",
      "source": [
        "np.random?"
      ],
      "execution_count": 0,
      "outputs": []
    },
    {
      "metadata": {
        "id": "QzE_37oC3VHS",
        "colab_type": "text"
      },
      "cell_type": "markdown",
      "source": [
        "# Introduction to Python\n",
        "\n",
        "Python is a *modern, robust, high level* programming language. It is very easy to pick up even if you are completely new to programming.\n",
        "\n",
        "Python, similar to other languages like Matlab or R, is **interpreted** hence runs slowly compared to **compiled** languages like C++, Fortran or Java. However writing programs in Python is very quick. Python has a very large collection of libraries for everything from scientific computing to web services.\n",
        "\n",
        "These lectures are using **ipython notebooks** which mix *Python* code with *documentation*. The python notebooks can be run on a webserver or stand-alone on a computer.\n",
        "\n",
        "We'll be using **Python 3.6** throughout this tutorial and the notebooks are run on **Google Colaboratory**."
      ]
    },
    {
      "metadata": {
        "id": "t9dC9uIK3VHU",
        "colab_type": "text"
      },
      "cell_type": "markdown",
      "source": [
        "## 1. Basic Syntax\n",
        "\n",
        "* Python has no **mandatory statement termination character**.\n",
        "* **No spaces or tab** characters allowed at the **start of a statement**, except for indented blocks. (more on this later)\n",
        "* Indentation plays a special role in Python, **blocks are specified by indentation**.\n",
        "* The **`#`** character indicates that the rest of the line is a **comment**, **`'''`** represents multi-line comment.\n",
        "* Values are **assigned** (in fact, objects are bound to names) with **`=`**."
      ]
    },
    {
      "metadata": {
        "id": "EeThh3DF3VHV",
        "colab_type": "code",
        "colab": {
          "base_uri": "https://localhost:8080/",
          "height": 35
        },
        "outputId": "fd532bb2-ebec-4411-d069-81f3c09b9b57"
      },
      "cell_type": "code",
      "source": [
        "var = 1\n",
        "# var = 2.\n",
        "''' The above statement is a comment,\n",
        "This is a multi-line comment.\n",
        "'''\n",
        "print(\"value of var is %d.\" % var)"
      ],
      "execution_count": 67,
      "outputs": [
        {
          "output_type": "stream",
          "text": [
            "value of var is 1.\n"
          ],
          "name": "stdout"
        }
      ]
    },
    {
      "metadata": {
        "id": "jEzHSxoy3VHZ",
        "colab_type": "code",
        "colab": {
          "base_uri": "https://localhost:8080/",
          "height": 133
        },
        "outputId": "f3282711-13c3-4001-e4a1-1ccdd39d6263"
      },
      "cell_type": "code",
      "source": [
        "var = 3 # no space at beginning\n",
        "    print(var) # indented code"
      ],
      "execution_count": 52,
      "outputs": [
        {
          "output_type": "error",
          "ename": "IndentationError",
          "evalue": "ignored",
          "traceback": [
            "\u001b[0;36m  File \u001b[0;32m\"<ipython-input-52-e30262a4614a>\"\u001b[0;36m, line \u001b[0;32m2\u001b[0m\n\u001b[0;31m    print(var) # indented code\u001b[0m\n\u001b[0m    ^\u001b[0m\n\u001b[0;31mIndentationError\u001b[0m\u001b[0;31m:\u001b[0m unexpected indent\n"
          ]
        }
      ]
    },
    {
      "metadata": {
        "id": "uZ_1JvIi3VHc",
        "colab_type": "text"
      },
      "cell_type": "markdown",
      "source": [
        "### 1.1 Variables and Types\n",
        "\n",
        "Python is *strongly typed* (i.e. types are enforced), *dynamically, implicitly* typed (i.e. you don’t have to declare variables), *case sensitive* (i.e. var and VAR are two different variables) and *object-oriented* (i.e. everything is an object). The basic types build into Python include **`float`** (floating point numbers), **`int`** (integers), **`str`** (unicode character strings) and **`bool`** (boolean). The **`type()`** function returns the type of an object. Some examples of each:"
      ]
    },
    {
      "metadata": {
        "id": "KF45ps3g3VHd",
        "colab_type": "code",
        "colab": {
          "base_uri": "https://localhost:8080/",
          "height": 89
        },
        "outputId": "303d983a-a4c0-4224-a645-ec3972a247f2"
      },
      "cell_type": "code",
      "source": [
        "var1 = 5\n",
        "var2 = 15.2632423\n",
        "var3 = \"Hello World!\"\n",
        "var4 = True\n",
        "\n",
        "print(\"var1 is of type %s.\" % type(var1))\n",
        "print(\"var2 is of type %s.\" % type(var2))\n",
        "print(\"var3 is of type %s.\" % type(var3))\n",
        "print(\"var4 is of type %s.\" % type(var4))"
      ],
      "execution_count": 68,
      "outputs": [
        {
          "output_type": "stream",
          "text": [
            "var1 is of type <class 'int'>.\n",
            "var2 is of type <class 'float'>.\n",
            "var3 is of type <class 'str'>.\n",
            "var4 is of type <class 'bool'>.\n"
          ],
          "name": "stdout"
        }
      ]
    },
    {
      "metadata": {
        "id": "6cRW4U9C3VHh",
        "colab_type": "text"
      },
      "cell_type": "markdown",
      "source": [
        "### 1.2 Help\n",
        "Python has extensive *help* built in. You can execute **`help()`** for an overview or **`help(x)`** for *any library, object or type x* to get more information."
      ]
    },
    {
      "metadata": {
        "id": "N9arReAq3VHi",
        "colab_type": "code",
        "colab": {}
      },
      "cell_type": "code",
      "source": [
        "help(var1)"
      ],
      "execution_count": 0,
      "outputs": []
    },
    {
      "metadata": {
        "id": "lsD8CAf83VHl",
        "colab_type": "text"
      },
      "cell_type": "markdown",
      "source": [
        "### 1.3 Built-in Operators\n",
        "\n",
        "<table>\n",
        "<tr>\n",
        "    <th>Arithmetic</th>\n",
        "    <th>Logical</th>\n",
        "    <th>Bitwise</th>\n",
        "</tr>\n",
        "<tr>\n",
        "    <td>\n",
        "    <table>\n",
        "    <tr>\n",
        "        <th>Symbol</th>\n",
        "        <th>Task Performed</th> \n",
        "    </tr>\n",
        "    <tr>\n",
        "        <td>+</td>\n",
        "        <td>addition</td> \n",
        "    </tr>\n",
        "    <tr>\n",
        "        <td>-</td>\n",
        "        <td>subtraction</td> \n",
        "    </tr>\n",
        "    <tr>\n",
        "        <td>/</td>\n",
        "        <td>division</td> \n",
        "    </tr>\n",
        "    <tr>\n",
        "        <td>//</td>\n",
        "        <td>floor division</td> \n",
        "    </tr>\n",
        "    <tr>\n",
        "        <td>%</td>\n",
        "        <td>mod</td> \n",
        "    </tr>\n",
        "    <tr>\n",
        "        <td>&#42;</td>\n",
        "        <td>multiplication</td> \n",
        "    </tr>\n",
        "    <tr>\n",
        "        <td>&#42;&#42;</td>\n",
        "        <td>exponentiation</td> \n",
        "    </tr>\n",
        "    </table>\n",
        "    </td>\n",
        "    <td>\n",
        "    <table>\n",
        "    <tr>\n",
        "        <th>Symbol</th>\n",
        "        <th>Task Performed</th> \n",
        "    </tr>\n",
        "    <tr>\n",
        "        <td>==</td>\n",
        "        <td>equals</td> \n",
        "    </tr>\n",
        "    <tr>\n",
        "        <td>!=</td>\n",
        "        <td>not equals</td> \n",
        "    </tr>\n",
        "    <tr>\n",
        "        <td>&lt;</td>\n",
        "        <td>less than</td> \n",
        "    </tr>\n",
        "    <tr>\n",
        "        <td>&gt;</td>\n",
        "        <td>greater than</td> \n",
        "    </tr>\n",
        "    <tr>\n",
        "        <td>&lt;=</td>\n",
        "        <td>less than or equal to</td> \n",
        "    </tr>\n",
        "    <tr>\n",
        "        <td>&gt;=</td>\n",
        "        <td>greater than or equal to</td> \n",
        "    </tr>\n",
        "    </table>\n",
        "    </td>\n",
        "    <td>\n",
        "    <table>\n",
        "    <tr>\n",
        "        <th>Symbol</th>\n",
        "        <th>Task Performed</th> \n",
        "    </tr>\n",
        "    <tr>\n",
        "        <td>&amp;</td>\n",
        "        <td>AND</td> \n",
        "    </tr>\n",
        "    <tr>\n",
        "        <td>|</td>\n",
        "        <td>OR</td> \n",
        "    </tr>\n",
        "    <tr>\n",
        "        <td>^</td>\n",
        "        <td>XOR</td> \n",
        "    </tr>\n",
        "    <tr>\n",
        "        <td>~</td>\n",
        "        <td>NOT</td> \n",
        "    </tr>\n",
        "    <tr>\n",
        "        <td>&gt;&gt;</td>\n",
        "        <td>right shift</td> \n",
        "    </tr>\n",
        "    <tr>\n",
        "        <td>&lt;&lt;</td>\n",
        "        <td>left shift</td> \n",
        "    </tr>\n",
        "    </table>\n",
        "    </td>\n",
        "</tr>\n",
        "</table>"
      ]
    },
    {
      "metadata": {
        "id": "6GjLpAL43VHn",
        "colab_type": "code",
        "colab": {
          "base_uri": "https://localhost:8080/",
          "height": 143
        },
        "outputId": "0e2aed2a-9a12-4cb1-8c73-80ef481f425c"
      },
      "cell_type": "code",
      "source": [
        "int1 = 5\n",
        "int2 = 3\n",
        "print(\"%d + %d equals %d.\" % (int1, int2, int1 + int2))\n",
        "print(\"%d - %d equals %d.\" % (int1, int2, int1 - int2))\n",
        "print(\"%d / %d equals %d.\" % (int1, int2, int1 / int2))\n",
        "print(\"%d // %d equals %d.\" % (int1, int2, int1 // int2))\n",
        "print(\"%d %% %d equals %d.\" % (int1, int2, int1 % int2))\n",
        "print(\"%d * %d equals %d.\" % (int1, int2, int1 * int2))\n",
        "print(\"%d ** %d equals %d.\" % (int1, int2, int1 ** int2))"
      ],
      "execution_count": 57,
      "outputs": [
        {
          "output_type": "stream",
          "text": [
            "5 + 3 equals 8.\n",
            "5 - 3 equals 2.\n",
            "5 / 3 equals 1.\n",
            "5 // 3 equals 1.\n",
            "5 % 3 equals 2.\n",
            "5 * 3 equals 15.\n",
            "5 ** 3 equals 125.\n"
          ],
          "name": "stdout"
        }
      ]
    },
    {
      "metadata": {
        "id": "Qn0qqPwV4lD3",
        "colab_type": "code",
        "colab": {
          "base_uri": "https://localhost:8080/",
          "height": 89
        },
        "outputId": "b488a4b1-4eab-4622-e85d-92f200da1ebf"
      },
      "cell_type": "code",
      "source": [
        "int1 = 3\n",
        "print(\"%d == 2 equals %r.\" %(int1, int1 == 2))\n",
        "print(\"%d ! 2 equals %r.\" %(int1, int1 != 2))\n",
        "print(\"%d < 2 equals %r.\" %(int1, int1 < 2))\n",
        "print(\"1 < %d <= 10 equals %r.\" %(int1, 1 < int1 <= 10))"
      ],
      "execution_count": 61,
      "outputs": [
        {
          "output_type": "stream",
          "text": [
            "3 == 2 equals False.\n",
            "3 ! 2 equals True.\n",
            "3 < 2 equals False.\n",
            "1 < 3 <= 10 equals True.\n"
          ],
          "name": "stdout"
        }
      ]
    },
    {
      "metadata": {
        "id": "6uCy8mwJ4pwa",
        "colab_type": "code",
        "colab": {
          "base_uri": "https://localhost:8080/",
          "height": 107
        },
        "outputId": "9c465085-0e91-427f-f924-819ea81f5c76"
      },
      "cell_type": "code",
      "source": [
        "int1 = 2\n",
        "int2 = 3\n",
        "print(\"%d is %s in binary.\" %(int1, bin(int1)))\n",
        "print(\"%d is %s in binary.\" %(int2, bin(int2)))\n",
        "print(\"%d & %d is %s in binary.\" % (int1, int2, bin(int1 & int2)))\n",
        "print(\"%d | %d is %s in binary.\" % (int1, int2, bin(int1 | int2)))\n",
        "print(\"%d ^ %d is %s in binary.\" % (int1, int2, bin(int1 ^ int2)))"
      ],
      "execution_count": 66,
      "outputs": [
        {
          "output_type": "stream",
          "text": [
            "2 is 0b10 in binary.\n",
            "3 is 0b11 in binary.\n",
            "2 & 3 is 0b10 in binary.\n",
            "2 | 3 is 0b11 in binary.\n",
            "2 ^ 3 is 0b1 in binary.\n"
          ],
          "name": "stdout"
        }
      ]
    },
    {
      "metadata": {
        "id": "-9siY-ya3VHq",
        "colab_type": "text"
      },
      "cell_type": "markdown",
      "source": [
        "## 2 Data Structure"
      ]
    },
    {
      "metadata": {
        "id": "NVBnae7w3VHr",
        "colab_type": "text"
      },
      "cell_type": "markdown",
      "source": [
        "### 2.1 String\n",
        "\n",
        "Strings  have to be enclosed in **`'`** single or **`\"`** double quotation marks, and you can have quotation marks of one kind inside a string that uses the other kind. Multiline strings are enclosed in **`'''`** or **`\"\"\"`** triple quotes.\n",
        "\n",
        "Strings are **immutable** i.e. is not possible to modify a string. All string modification operations create a new string and return it.\n",
        "\n",
        "There are lots of **built-in methods** for formating and manipulating strings built into Python. Some of these are illustrated here.\n",
        "\n",
        "1. String concatenation is the \"addition\" of two strings. (There is no subtraction.)\n",
        "1. Multiplying a string by an integer simply repeats it.\n",
        "1. Strings can be compared in lexicographical order with the usual comparisons.\n",
        "1. Strings can be indexed with square brackets. Indexing starts from zero in Python and -1 represents the last index."
      ]
    },
    {
      "metadata": {
        "id": "HzYYInCm3VHs",
        "colab_type": "code",
        "colab": {
          "base_uri": "https://localhost:8080/",
          "height": 53
        },
        "outputId": "e069eb85-0722-4e80-aff7-716fdb57ef75"
      },
      "cell_type": "code",
      "source": [
        "str1 = 'Hello'\n",
        "str2 = 'World!'\n",
        "str3 = \"Hello World!\"\n",
        "str4 = '''Multi-line\n",
        "string,\n",
        "three lines to be exact.'''\n",
        "print(\"'%s' + '%s' equals '%s'.\" % (str1, str2, str1 + str2))\n",
        "print(\"'%s' * 5 equals '%s'.\" %(str3, str3*5))"
      ],
      "execution_count": 85,
      "outputs": [
        {
          "output_type": "stream",
          "text": [
            "'Hello' + 'World!' equals 'HelloWorld!'.\n",
            "'Hello World!' * 5 equals 'Hello World!Hello World!Hello World!Hello World!Hello World!'.\n"
          ],
          "name": "stdout"
        }
      ]
    },
    {
      "metadata": {
        "id": "3zuxOGkn4_h2",
        "colab_type": "code",
        "colab": {
          "base_uri": "https://localhost:8080/",
          "height": 89
        },
        "outputId": "436ec8e2-65ec-4555-8676-5d6cee70ea2e"
      },
      "cell_type": "code",
      "source": [
        "print(\"'%s' < '%s' equals %r.\" % (str1, str2, str1 < str2))\n",
        "str5 = 'Python'\n",
        "print(\"First character of '%s' is '%s'.\" % (str5, str5[0]))\n",
        "print(\"Last character of '%s' is '%s'.\" % (str5, str5[-1]))\n",
        "print(\"First three characters of '%s' is '%s'.\" % (str5, str5[0:3]))"
      ],
      "execution_count": 88,
      "outputs": [
        {
          "output_type": "stream",
          "text": [
            "'Hello' < 'World!' equals True.\n",
            "First character of 'Python' is 'P'.\n",
            "Last character of 'Python' is 'n'.\n",
            "First three characters of 'Python' is 'Pyt'.\n"
          ],
          "name": "stdout"
        }
      ]
    },
    {
      "metadata": {
        "id": "h-2SWNVJ3VHv",
        "colab_type": "code",
        "colab": {
          "base_uri": "https://localhost:8080/",
          "height": 71
        },
        "outputId": "9b0c4bb7-4e86-4996-a0f7-c5eb85850b4e"
      },
      "cell_type": "code",
      "source": [
        "str1=\"hello World\"\n",
        "print(\"'%s' capitalized is '%s'.\" % (str1, str1.capitalize()))\n",
        "print(\"'%s' in upper case is '%s'.\" % (str1, str1.upper()))\n",
        "print(\"'%s' in lower case is '%s'.\" % (str1, str1.lower()))"
      ],
      "execution_count": 90,
      "outputs": [
        {
          "output_type": "stream",
          "text": [
            "'hello World' capitalized is 'Hello world'.\n",
            "'hello World' in upper case is 'HELLO WORLD'.\n",
            "'hello World' in lower case is 'hello world'.\n"
          ],
          "name": "stdout"
        }
      ]
    },
    {
      "metadata": {
        "id": "LvY7b5Xv5e1j",
        "colab_type": "code",
        "colab": {
          "base_uri": "https://localhost:8080/",
          "height": 179
        },
        "outputId": "57a95892-c7e5-44ed-8d72-3dc0993cd44f"
      },
      "cell_type": "code",
      "source": [
        "str1=\"   hello world with trailing space\"\n",
        "print(\"'%s' stripped of space is \\n'%s'.\\n\" % (str1, str1.strip())) # strip can also remove characters other than space.\n",
        "str2 = str1.strip()\n",
        "print(\"Replacing 'with' with 'without' in '%s' gives \\n'%s'.\\n\" % (str2, str2.replace(\"with\", \"without\")))\n",
        "print(\"'%s' splitted by space is \\n'%s'.\\n\" % (str2, str2.split())) # split can divide based on characters other than space."
      ],
      "execution_count": 97,
      "outputs": [
        {
          "output_type": "stream",
          "text": [
            "'   hello world with trailing space' stripped of space is \n",
            "'hello world with trailing space'.\n",
            "\n",
            "Replacing 'with' with 'without' in 'hello world with trailing space' gives \n",
            "'hello world without trailing space'.\n",
            "\n",
            "'hello world with trailing space' splitted by space is \n",
            "'['hello', 'world', 'with', 'trailing', 'space']'.\n",
            "\n"
          ],
          "name": "stdout"
        }
      ]
    },
    {
      "metadata": {
        "id": "0YoGoCon3VHz",
        "colab_type": "code",
        "colab": {
          "base_uri": "https://localhost:8080/",
          "height": 241
        },
        "outputId": "bb43aecf-f33d-4940-a4af-1a3b3352b9c6"
      },
      "cell_type": "code",
      "source": [
        "str1='Python'\n",
        "\n",
        "str2='C'+str1[1:]\n",
        "print(str1,'-->',str2)\n",
        "\n",
        "str3=str1.replace('P','C')\n",
        "print(str1,'-->',str3)\n",
        "\n",
        "str1[0] = 'C'"
      ],
      "execution_count": 98,
      "outputs": [
        {
          "output_type": "stream",
          "text": [
            "Python --> Cython\n",
            "Python --> Cython\n"
          ],
          "name": "stdout"
        },
        {
          "output_type": "error",
          "ename": "TypeError",
          "evalue": "ignored",
          "traceback": [
            "\u001b[0;31m---------------------------------------------------------------------------\u001b[0m",
            "\u001b[0;31mTypeError\u001b[0m                                 Traceback (most recent call last)",
            "\u001b[0;32m<ipython-input-98-0d9a91fc0a27>\u001b[0m in \u001b[0;36m<module>\u001b[0;34m()\u001b[0m\n\u001b[1;32m      7\u001b[0m \u001b[0mprint\u001b[0m\u001b[0;34m(\u001b[0m\u001b[0mstr1\u001b[0m\u001b[0;34m,\u001b[0m\u001b[0;34m'-->'\u001b[0m\u001b[0;34m,\u001b[0m\u001b[0mstr3\u001b[0m\u001b[0;34m)\u001b[0m\u001b[0;34m\u001b[0m\u001b[0m\n\u001b[1;32m      8\u001b[0m \u001b[0;34m\u001b[0m\u001b[0m\n\u001b[0;32m----> 9\u001b[0;31m \u001b[0mstr1\u001b[0m\u001b[0;34m[\u001b[0m\u001b[0;36m0\u001b[0m\u001b[0;34m]\u001b[0m \u001b[0;34m=\u001b[0m \u001b[0;34m'C'\u001b[0m\u001b[0;34m\u001b[0m\u001b[0m\n\u001b[0m",
            "\u001b[0;31mTypeError\u001b[0m: 'str' object does not support item assignment"
          ]
        }
      ]
    },
    {
      "metadata": {
        "id": "mbzEW5623VH3",
        "colab_type": "text"
      },
      "cell_type": "markdown",
      "source": [
        "#### 2.1.1 Print Statement\n",
        "\n",
        "The **`print()`** function prints all of its arguments as strings, separated by spaces and followed by a linebreak:\n",
        "\n",
        "    - print(\"Hello World\")\n",
        "    - print(\"Hello\",'World')\n",
        "    - print(\"Hello\", <Variable Containing the String>)\n",
        "    \n",
        "To fill a string with values from variables, you use the % (modulo) operator and a tuple. Some common string formatters are:\n",
        "- %s -> string\n",
        "- %d -> Integer\n",
        "- %f -> Float\n"
      ]
    },
    {
      "metadata": {
        "id": "vnlLmTlB3VH5",
        "colab_type": "code",
        "colab": {
          "base_uri": "https://localhost:8080/",
          "height": 89
        },
        "outputId": "9db085c0-b75a-435d-ccda-d36b5d289087"
      },
      "cell_type": "code",
      "source": [
        "str1 = \"World\"\n",
        "print(\"Hello %s\" % str1)\n",
        "print(\"Hello\", str1)\n",
        "print(\"Actual Number = %d\" %18)\n",
        "print(\"Float of the number = %f\" %18)"
      ],
      "execution_count": 100,
      "outputs": [
        {
          "output_type": "stream",
          "text": [
            "Hello World\n",
            "Hello World\n",
            "Actual Number = 18\n",
            "Float of the number = 18.000000\n"
          ],
          "name": "stdout"
        }
      ]
    },
    {
      "metadata": {
        "id": "QkQVFV8-3VH8",
        "colab_type": "text"
      },
      "cell_type": "markdown",
      "source": [
        "### 2.2 Lists\n",
        "\n",
        "Lists are the most commonly used data structure. Think of it as a **1D array**, where each element can be accessed by calling it's index value. Lists are **dynamic** in nature i.e. you can keep on adding data to a list. Lists need not be homogeneous, i.e. the same list can contain elements of different data types, even another list.\n",
        "\n",
        "Lists are declared by **`[]`** or **`list()`**."
      ]
    },
    {
      "metadata": {
        "id": "I0-6OsAK3VH8",
        "colab_type": "code",
        "colab": {
          "base_uri": "https://localhost:8080/",
          "height": 89
        },
        "outputId": "6148182b-007f-4397-8ad4-5527d2103813"
      },
      "cell_type": "code",
      "source": [
        "list1 = []\n",
        "list2 = list()\n",
        "list3 = ['apple', 'orange']\n",
        "list4 = [1, 2, 3]\n",
        "list5 = ['apple', 2, 3, ['orange', 3, 5]]\n",
        "print(\"list5 contains %s and is of type %s.\" % (list5, type(list5)))\n",
        "print(\"First element of list5 is %s of type %s.\" % (list5[0], type(list5[0])))\n",
        "print(\"Last element of list5 is %s of type %s.\" % (list5[-1], type(list5[-1])))\n",
        "print(\"First element of the above nested list is %s.\" % list5[-1][0])"
      ],
      "execution_count": 107,
      "outputs": [
        {
          "output_type": "stream",
          "text": [
            "list5 contains ['apple', 2, 3, ['orange', 3, 5]] and is of type <class 'list'>.\n",
            "First element of list5 is apple of type <class 'str'>.\n",
            "Last element of list5 is ['orange', 3, 5] of type <class 'list'>.\n",
            "First element of the above nested list is orange.\n"
          ],
          "name": "stdout"
        }
      ]
    },
    {
      "metadata": {
        "id": "DFYuDuEb3VH_",
        "colab_type": "text"
      },
      "cell_type": "markdown",
      "source": [
        "#### 2.2.1 Slicing\n",
        "\n",
        "Indexing is limited to accessing a single element, slicing on the other hand is accessing a (sub)sequence of data inside the list. It is written as **`[a:b:c]`** where a,b are the index values from the parent list and c is the step size."
      ]
    },
    {
      "metadata": {
        "id": "Yo6U1MOU3VIA",
        "colab_type": "code",
        "colab": {
          "base_uri": "https://localhost:8080/",
          "height": 71
        },
        "outputId": "fc3a8ada-a495-4663-ba1a-6ebbe56db56d"
      },
      "cell_type": "code",
      "source": [
        "list6 = [1,2,3,4,5,6,7,8,9,10]\n",
        "print(\"The first to fourth elements of list6 are %s.\" % list6[0:4])\n",
        "print(\"all but last element of list6 are %s.\" % list6[:-1])\n",
        "print(\"every even index element of list6 are %s.\" % list6[::2])"
      ],
      "execution_count": 117,
      "outputs": [
        {
          "output_type": "stream",
          "text": [
            "The first to fourth elements of list6 are [1, 2, 3, 4].\n",
            "all but last element of list6 are [1, 2, 3, 4, 5, 6, 7, 8, 9].\n",
            "every even index element of list6 are [1, 3, 5, 7, 9].\n"
          ],
          "name": "stdout"
        }
      ]
    },
    {
      "metadata": {
        "id": "dpek-TlX3VIC",
        "colab_type": "text"
      },
      "cell_type": "markdown",
      "source": [
        "#### 2.2.2 Built-in Functions\n",
        "\n",
        "* To find the length of the list or the number of elements in a list, **`len()`** is used.\n",
        "* **`append()`** is used to add a single element at the end of the list.\n",
        "* Appending a list to a list would create a sublist. If a nested list is not what is desired then the **`extend()`** function can be used.\n",
        "* **`insert(x,y)`** inserts but does not replace element. If you want to replace the element with another element you simply assign the value to that particular index.\n",
        "* **`count()`** is used to count the number of a particular element that is present in the list.\n",
        "* **`index()`** is used to find the index value of a particular element. Note that if there are multiple elements of the same value then the first index value of that element is returned.\n",
        "\n",
        "There are a ton of other useful built-in functions like **`max()`**, **`min()`**, **`pop()`**, **`sort()`**, type **`help(list)`**."
      ]
    },
    {
      "metadata": {
        "id": "QhOt4W4o3VID",
        "colab_type": "code",
        "colab": {
          "base_uri": "https://localhost:8080/",
          "height": 125
        },
        "outputId": "ec202481-c4ed-4de4-bab6-35b45ef2cc65"
      },
      "cell_type": "code",
      "source": [
        "list7 = [1, 2, 3, 4, 5, 6]\n",
        "print(\"List contains\", list7)\n",
        "list7.append(7)\n",
        "print(\"Appending 7 to the list gives\", list7)\n",
        "list7.extend([8, 9, 10])\n",
        "print(\"Extending the list by several numbers gives\", list7)\n",
        "list7.insert(5, 6)\n",
        "print(\"Inserting a 6 at index 5 gives\", list7)\n",
        "print(\"The element 6 occurs %s times.\" % list7.count(6))\n",
        "print(\"The length of the list is\", len(list7))"
      ],
      "execution_count": 112,
      "outputs": [
        {
          "output_type": "stream",
          "text": [
            "List contains [1, 2, 3, 4, 5, 6]\n",
            "Appending 7 to the list gives [1, 2, 3, 4, 5, 6, 7]\n",
            "Extending the list by several numbers gives [1, 2, 3, 4, 5, 6, 7, 8, 9, 10]\n",
            "Inserting a 6 at index 5 gives [1, 2, 3, 4, 5, 6, 6, 7, 8, 9, 10]\n",
            "The element 6 occurs 2 times.\n",
            "The length of the list is 11\n"
          ],
          "name": "stdout"
        }
      ]
    },
    {
      "metadata": {
        "id": "W9X1kokt3VIG",
        "colab_type": "text"
      },
      "cell_type": "markdown",
      "source": [
        "### 2.3 Tuples\n",
        "\n",
        "Tuples are similar to lists but are immutable i.e. the elements inside a tuple cannot be changed.\n",
        "\n",
        "Tuples are declared by **`()`** or **`tuple()`** or by ending a sequence with a **`,`**."
      ]
    },
    {
      "metadata": {
        "id": "cPLpuA1d3VIH",
        "colab_type": "code",
        "colab": {
          "base_uri": "https://localhost:8080/",
          "height": 53
        },
        "outputId": "4626b603-b990-453a-b02d-f403dedec9a6"
      },
      "cell_type": "code",
      "source": [
        "tup1 = []\n",
        "tup2 = tuple()\n",
        "tup3 = ('apple', 'orange')\n",
        "print(type(tup3), tup3)\n",
        "tup4 = 1,\n",
        "print(type(tup4), tup4)"
      ],
      "execution_count": 78,
      "outputs": [
        {
          "output_type": "stream",
          "text": [
            "<class 'tuple'> ('apple', 'orange')\n",
            "<class 'tuple'> (1,)\n"
          ],
          "name": "stdout"
        }
      ]
    },
    {
      "metadata": {
        "id": "VuQ6t5sw3VIJ",
        "colab_type": "text"
      },
      "cell_type": "markdown",
      "source": [
        "### 2.4 Sets\n",
        "\n",
        "\n",
        "Sets are mainly used to eliminate repeated numbers in a sequence/list.\n",
        "\n",
        "Sets are declared as **`set()`** which will initialize a empty set. **`set([sequence])`** or **`{sequence}`** declares a set with elements.\n",
        "\n",
        "Sets have built-in functions for standard set operations like **`union()`**, **`intersection()`**, **`difference()`**, **`symmetric_difference()`**, **`issubset()`**, **`isdisjoint()`**, **`issuperset()`**, etc."
      ]
    },
    {
      "metadata": {
        "id": "WnOXRy_L3VIJ",
        "colab_type": "code",
        "colab": {
          "base_uri": "https://localhost:8080/",
          "height": 35
        },
        "outputId": "020a130a-714a-432a-d009-aaf3f549e540"
      },
      "cell_type": "code",
      "source": [
        "set1 = set()\n",
        "print(\"type of set1 is\", type(set1))"
      ],
      "execution_count": 114,
      "outputs": [
        {
          "output_type": "stream",
          "text": [
            "type of set1 is <class 'set'>\n"
          ],
          "name": "stdout"
        }
      ]
    },
    {
      "metadata": {
        "id": "2yvx7U0u3VIM",
        "colab_type": "code",
        "colab": {
          "base_uri": "https://localhost:8080/",
          "height": 197
        },
        "outputId": "dff8cbb9-dc06-4f1d-f371-1367acb77d6a"
      },
      "cell_type": "code",
      "source": [
        "set2 = set([1, 2, 3, 4])\n",
        "set3 = {3, 4, 5, 6, 7}\n",
        "print(\"set2 contains\", set2)\n",
        "print(\"set3 contains\", set2)\n",
        "print(\"Union is\", set2.union(set3)) # same as |\n",
        "print(\"Intersection gives\", set2.intersection(set3)) # same as &\n",
        "print(\"Difference gives\", set2.difference(set3)) # same as -\n",
        "print(\"Symmetric difference gives\", set2.symmetric_difference(set3)) # same as ^\n",
        "print(\"is set2 subset of set3?\", set2.issubset(set3)) # same as <=\n",
        "print(\"is set2 and set3 disjoint?\", set2.isdisjoint(set3))\n",
        "print(\"is set2 superset of set3?\", set2.issuperset(set3)) # same as >=\n",
        "print(\"is 4 in set2?\", (5 in set2))"
      ],
      "execution_count": 116,
      "outputs": [
        {
          "output_type": "stream",
          "text": [
            "set2 contains {1, 2, 3, 4}\n",
            "set3 contains {1, 2, 3, 4}\n",
            "Union is {1, 2, 3, 4, 5, 6, 7}\n",
            "Intersection gives {3, 4}\n",
            "Difference gives {1, 2}\n",
            "Symmetric difference gives {1, 2, 5, 6, 7}\n",
            "is set2 subset of set3? False\n",
            "is set2 and set3 disjoint? False\n",
            "is set2 superset of set3? False\n",
            "is 4 in set2? False\n"
          ],
          "name": "stdout"
        }
      ]
    },
    {
      "metadata": {
        "id": "upmPSE6-3VIT",
        "colab_type": "text"
      },
      "cell_type": "markdown",
      "source": [
        "### 2.5 Dictionaries\n",
        "\n",
        "Dictionaries are mappings between keys and items. **Keys** in dictionaries are always **unique**.\n",
        "\n",
        "Dictionaries are declared by **`{}`** or **`dict()`**."
      ]
    },
    {
      "metadata": {
        "id": "W7RKmIZy3VIU",
        "colab_type": "code",
        "colab": {
          "base_uri": "https://localhost:8080/",
          "height": 35
        },
        "outputId": "bc8dc8c9-ee44-4525-af7a-ce968b927d08"
      },
      "cell_type": "code",
      "source": [
        "dict1 = dict()\n",
        "dict2 = {}\n",
        "dict3 = {1: 'One', 2 : 'Two', 100 : 'Hundred'}\n",
        "print(\"type of dict1 is\", type(dict1))"
      ],
      "execution_count": 120,
      "outputs": [
        {
          "output_type": "stream",
          "text": [
            "type of dict1 is <class 'dict'>\n"
          ],
          "name": "stdout"
        }
      ]
    },
    {
      "metadata": {
        "id": "q5WBXERC3VIc",
        "colab_type": "text"
      },
      "cell_type": "markdown",
      "source": [
        "Assign new (key, value) pairs to a dict using **`dict[key] = value`**. If key already exists the value is overwritten.\n",
        "**`keys()`** returns the list of all keys, **`values()`** return the list of all values and **`items()`** returns the list of all (key, value) pairs."
      ]
    },
    {
      "metadata": {
        "id": "OJ2okKWu3VIe",
        "colab_type": "code",
        "colab": {
          "base_uri": "https://localhost:8080/",
          "height": 71
        },
        "outputId": "b926d66a-99e6-430d-ce44-a89067f0819f"
      },
      "cell_type": "code",
      "source": [
        "dict4 = {1: 'One', 'Two': 2, (1,2): 'tuple', '(1,2)': 'str'}\n",
        "print(\"List of keys in dict4:\", dict4.keys())\n",
        "print(\"List of values in dict4:\", dict4.values())\n",
        "print(\"List of items in dict4:\", dict4.items())"
      ],
      "execution_count": 121,
      "outputs": [
        {
          "output_type": "stream",
          "text": [
            "List of keys in dict4: dict_keys([1, 'Two', (1, 2), '(1,2)'])\n",
            "List of values in dict4: dict_values(['One', 2, 'tuple', 'str'])\n",
            "List of items in dict4: dict_items([(1, 'One'), ('Two', 2), ((1, 2), 'tuple'), ('(1,2)', 'str')])\n"
          ],
          "name": "stdout"
        }
      ]
    },
    {
      "metadata": {
        "id": "GY94kZ8a3VIk",
        "colab_type": "text"
      },
      "cell_type": "markdown",
      "source": [
        "## 3. Control Flow Statements\n",
        "\n",
        "The key thing to note about Python's control flow statements and program structure is that it uses **indentation** to mark blocks. Hence the amount of white space (space or tab characters) at the start of a line is very important."
      ]
    },
    {
      "metadata": {
        "id": "ank13S8W3VIk",
        "colab_type": "text"
      },
      "cell_type": "markdown",
      "source": [
        "### 3.1 If Else If\n",
        "\n",
        "```python\n",
        "if some_condition:  \n",
        "    algorithm\n",
        "elif some_condition:\n",
        "    algorithm\n",
        "else:\n",
        "    algorithm```\n",
        "    \n",
        "if statements can be nested."
      ]
    },
    {
      "metadata": {
        "id": "HW6F0GRD3VIl",
        "colab_type": "code",
        "colab": {
          "base_uri": "https://localhost:8080/",
          "height": 35
        },
        "outputId": "1ef2e695-597b-4f8d-8db2-5e6c6882204e"
      },
      "cell_type": "code",
      "source": [
        "x = 10\n",
        "y = 12\n",
        "if x > y:\n",
        "    print(\"x>y\")\n",
        "elif x < y:\n",
        "    print(\"x<y\")\n",
        "else:\n",
        "    print(\"x=y\")"
      ],
      "execution_count": 32,
      "outputs": [
        {
          "output_type": "stream",
          "text": [
            "x<y\n"
          ],
          "name": "stdout"
        }
      ]
    },
    {
      "metadata": {
        "id": "l6-YyKHx3VIn",
        "colab_type": "text"
      },
      "cell_type": "markdown",
      "source": [
        "### 3.2 For\n",
        "\n",
        "```python\n",
        "for variable in something:\n",
        "    algorithm```\n",
        "    \n",
        "When looping over integers the **range()** function is useful which generates a range of integers:\n",
        "* range(n) =  0, 1, ..., n - 1\n",
        "* range(m,n) = m, m + 1, ..., n - 1\n",
        "* range(m,n,s) = m, m + s, m + 2s, ..., m + ((n - m - 1) // s) * s\n",
        "\n",
        "The **`enumerate()`** function gives **(index, element)** pairs while iterating over a sequence, instead of just the element."
      ]
    },
    {
      "metadata": {
        "id": "xDPaugkT3VIo",
        "colab_type": "code",
        "colab": {
          "base_uri": "https://localhost:8080/",
          "height": 35
        },
        "outputId": "ad70fa4e-e0f2-4f2a-aef9-a55fbca7b515"
      },
      "cell_type": "code",
      "source": [
        "list_of_lists = [[1, 2, 3], [4, 5, 6], [7, 8, 9]]\n",
        "total = 0\n",
        "for each_list in list_of_lists:\n",
        "    for num in each_list:\n",
        "        total = total + num\n",
        "print(total)"
      ],
      "execution_count": 33,
      "outputs": [
        {
          "output_type": "stream",
          "text": [
            "45\n"
          ],
          "name": "stdout"
        }
      ]
    },
    {
      "metadata": {
        "id": "ucFL8PZi3VIq",
        "colab_type": "text"
      },
      "cell_type": "markdown",
      "source": [
        "### 3.3 While\n",
        "\n",
        "```python\n",
        "while some_condition:  \n",
        "    algorithm```"
      ]
    },
    {
      "metadata": {
        "id": "wNWYaogK3VIr",
        "colab_type": "code",
        "colab": {
          "base_uri": "https://localhost:8080/",
          "height": 71
        },
        "outputId": "a4848a06-b607-40a3-f06c-9f29721e6ced"
      },
      "cell_type": "code",
      "source": [
        "i = 1\n",
        "while i < 3:\n",
        "    print(i ** 2)\n",
        "    i = i+1\n",
        "print('Bye')"
      ],
      "execution_count": 34,
      "outputs": [
        {
          "output_type": "stream",
          "text": [
            "1\n",
            "4\n",
            "Bye\n"
          ],
          "name": "stdout"
        }
      ]
    },
    {
      "metadata": {
        "id": "k37Ru24N3VIt",
        "colab_type": "text"
      },
      "cell_type": "markdown",
      "source": [
        "### 3.4 Break\n",
        "\n",
        "As the name says. It is used to break out of a loop when a condition becomes true when executing the loop."
      ]
    },
    {
      "metadata": {
        "id": "aRbT0rb03VIt",
        "colab_type": "code",
        "colab": {
          "base_uri": "https://localhost:8080/",
          "height": 107
        },
        "outputId": "5be296c1-943b-4be6-c378-8391a139b381"
      },
      "cell_type": "code",
      "source": [
        "for i in range(100):\n",
        "    print(i)\n",
        "    if i>=4:\n",
        "        break"
      ],
      "execution_count": 35,
      "outputs": [
        {
          "output_type": "stream",
          "text": [
            "0\n",
            "1\n",
            "2\n",
            "3\n",
            "4\n"
          ],
          "name": "stdout"
        }
      ]
    },
    {
      "metadata": {
        "id": "T0z3k_Ru3VIw",
        "colab_type": "text"
      },
      "cell_type": "markdown",
      "source": [
        "### 3.5 Continue\n",
        "\n",
        "This continues the rest of the loop. Sometimes when a condition is satisfied there are chances of the loop getting terminated. This can be avoided using continue statement. "
      ]
    },
    {
      "metadata": {
        "id": "JbF9ha-O3VIx",
        "colab_type": "code",
        "colab": {
          "base_uri": "https://localhost:8080/",
          "height": 89
        },
        "outputId": "b54a90d6-9a26-47a2-a883-94809c7a82fe"
      },
      "cell_type": "code",
      "source": [
        "for i in range(4):\n",
        "    if i == 2:\n",
        "        print(\"Ignored\", i ** 2)\n",
        "        continue\n",
        "    print(\"Processed\", i) # this statement is not reach if i > 4"
      ],
      "execution_count": 122,
      "outputs": [
        {
          "output_type": "stream",
          "text": [
            "Processed 0\n",
            "Processed 1\n",
            "Ignored 4\n",
            "Processed 3\n"
          ],
          "name": "stdout"
        }
      ]
    },
    {
      "metadata": {
        "id": "cWOfm6Q53VI0",
        "colab_type": "text"
      },
      "cell_type": "markdown",
      "source": [
        "### 3.6 Catching exceptions\n",
        "\n",
        "Some errors may not necessitate interrupting the program. A try block allows you to catch exceptions that happen anywhere during the exeuction of the try block and let you deal with it:\n",
        "```python\n",
        "try:\n",
        "    code\n",
        "except <Exception Type> as <variable name>:\n",
        "    # deal with error of this type\n",
        "except:\n",
        "    # deal with any error```"
      ]
    },
    {
      "metadata": {
        "id": "88_zdD2r3VI1",
        "colab_type": "code",
        "colab": {
          "base_uri": "https://localhost:8080/",
          "height": 53
        },
        "outputId": "9d866658-747d-4e3b-898d-2be1866541be"
      },
      "cell_type": "code",
      "source": [
        "for i in [2,1.5,0.0,3]:\n",
        "    inv_sum = 0\n",
        "    try:\n",
        "        inverse = 1.0/i\n",
        "        inv_sum += inverse\n",
        "    except ZeroDivisionError as e: # no matter what exception\n",
        "        print(e)\n",
        "print(inv_sum)"
      ],
      "execution_count": 126,
      "outputs": [
        {
          "output_type": "stream",
          "text": [
            "float division by zero\n",
            "0.3333333333333333\n"
          ],
          "name": "stdout"
        }
      ]
    },
    {
      "metadata": {
        "id": "niCtywje3VI4",
        "colab_type": "text"
      },
      "cell_type": "markdown",
      "source": [
        "## 4 Functions\n",
        "\n",
        "In programmming, functions are a mechansim to allow code to be re-used so that complex programs can be built up out of simpler parts. This is the basic syntax of a function:\n",
        "\n",
        "```python\n",
        "def funcname(arg1, arg2,..., argN-i=<default_value>, argN-i+1=<default_value>,..., argN=<default_value>):\n",
        "    statements\n",
        "    return <value>```\n",
        "    \n",
        "Return values are optional (by default every function returns **None** if no return statement is executed)"
      ]
    },
    {
      "metadata": {
        "id": "LD7v35PQ3VI4",
        "colab_type": "code",
        "colab": {
          "base_uri": "https://localhost:8080/",
          "height": 35
        },
        "outputId": "6ff2cbd3-ab5b-4d39-8c57-35cfb1b6d27b"
      },
      "cell_type": "code",
      "source": [
        "x = range(10)\n",
        "def func1(num_list):\n",
        "    ''' Function takes list of numbers as argument.\n",
        "        Return the highest, lowest, first and last element in the list.\n",
        "    '''\n",
        "    highest = max(num_list)\n",
        "    lowest = min(num_list)\n",
        "    first = num_list[0]\n",
        "    last = num_list[-1]\n",
        "    return highest, lowest, first, last\n",
        "print(\"highest %d, lowest %d, first %d, last %d.\" % func1(x))"
      ],
      "execution_count": 128,
      "outputs": [
        {
          "output_type": "stream",
          "text": [
            "highest 9, lowest 0, first 0, last 9.\n"
          ],
          "name": "stdout"
        }
      ]
    },
    {
      "metadata": {
        "id": "yKDswess3VI_",
        "colab_type": "text"
      },
      "cell_type": "markdown",
      "source": [
        "### 4.1 Scope of Variables\n",
        "\n",
        "Whatever variable is declared inside a function is local variable and outside the function in global variable.\n",
        "\n",
        "A global variable can be called from anywhere using the `global` keyword. Global values should be used sparingly as they make functions harder to re-use."
      ]
    },
    {
      "metadata": {
        "id": "34Jctaiw3VJA",
        "colab_type": "code",
        "colab": {
          "base_uri": "https://localhost:8080/",
          "height": 125
        },
        "outputId": "4b4465a7-6c14-4e64-ae5e-72c81d449cc4"
      },
      "cell_type": "code",
      "source": [
        "x = 1\n",
        "y = 3\n",
        "print(\"initiate x =\", x)\n",
        "print(\"initiate y =\", y)\n",
        "def func2():\n",
        "    global x\n",
        "    x = 2 # global variable \n",
        "    y = 4 # local variable\n",
        "    print(\"inside func x is\", x)\n",
        "    print(\"inside func y is\", y)\n",
        "func2()\n",
        "print(\"outside func x =\", x)\n",
        "print(\"outside func y =\", y)"
      ],
      "execution_count": 41,
      "outputs": [
        {
          "output_type": "stream",
          "text": [
            "initiate x = 1\n",
            "initiate y = 3\n",
            "inside func x is 2\n",
            "inside func y is 4\n",
            "outside func x = 2\n",
            "outside func y = 3\n"
          ],
          "name": "stdout"
        }
      ]
    },
    {
      "metadata": {
        "id": "UP1byFExtolU",
        "colab_type": "text"
      },
      "cell_type": "markdown",
      "source": [
        "### 4.2 Lambda Functions\n",
        "\n",
        "These are small functions which are not defined with any name and carry a single expression whose result is returned. Lambda functions comes very handy when operating with lists. These function are defined as:\n",
        "```\n",
        "lamba var1, var2, ..., varN: algorithm\n",
        "```\n",
        "\n",
        "The **map()** function takes as input a function and applies to a list/sequence."
      ]
    },
    {
      "metadata": {
        "id": "V8hzcu1_tlRe",
        "colab_type": "code",
        "colab": {
          "base_uri": "https://localhost:8080/",
          "height": 35
        },
        "outputId": "3a4f3add-c2c1-4efe-d3ab-dd6c587787cc"
      },
      "cell_type": "code",
      "source": [
        "fahrenheit = [20, 25, 30]\n",
        "celsius = map(lambda x: (float(9) / 5) * x + 32, fahrenheit)\n",
        "print(list(celsius))"
      ],
      "execution_count": 25,
      "outputs": [
        {
          "output_type": "stream",
          "text": [
            "[68.0, 77.0, 86.0]\n"
          ],
          "name": "stdout"
        }
      ]
    },
    {
      "metadata": {
        "id": "YZj_OOOL3VJF",
        "colab_type": "text"
      },
      "cell_type": "markdown",
      "source": [
        "### 4.3 Chaining Functions\n",
        "\n",
        "In python functions can be chained i.e. you can call a function on the output of another function directly in a single line."
      ]
    },
    {
      "metadata": {
        "id": "pEJE3Osc3VJF",
        "colab_type": "code",
        "colab": {
          "base_uri": "https://localhost:8080/",
          "height": 35
        },
        "outputId": "f45578d5-5977-4b24-cc1d-8cf44996ee4b"
      },
      "cell_type": "code",
      "source": [
        "def square(num_list):\n",
        "    for i, num in enumerate(num_list):\n",
        "        num_list[i] = (num ** 2)\n",
        "    return num_list\n",
        "\n",
        "def cumsum(num_list):\n",
        "    cum_sum = 0\n",
        "    for i, num in enumerate(num_list):\n",
        "        cum_sum += num\n",
        "        num_list[i] = cum_sum\n",
        "    return num_list\n",
        "\n",
        "def average(num_list):\n",
        "    return sum(num_list)/len(num_list)\n",
        "\n",
        "x = [1, 2, 3, 5, 8, 7, 6]\n",
        "print(average(cumsum(square(x))))"
      ],
      "execution_count": 2,
      "outputs": [
        {
          "output_type": "stream",
          "text": [
            "71.71428571428571\n"
          ],
          "name": "stdout"
        }
      ]
    },
    {
      "metadata": {
        "id": "gXUJcGRt3VJJ",
        "colab_type": "text"
      },
      "cell_type": "markdown",
      "source": [
        "### 4.4 List Comprehension\n",
        "\n",
        "A very powerful concept in Python (that also applies to Tuples, sets and dictionaries as we will see below), is the ability to define lists using list comprehension (looping) expression."
      ]
    },
    {
      "metadata": {
        "id": "Vk34a-rT3VJK",
        "colab_type": "code",
        "colab": {
          "base_uri": "https://localhost:8080/",
          "height": 35
        },
        "outputId": "363bfbd0-6f93-423d-e8a9-5596d0d61a4b"
      },
      "cell_type": "code",
      "source": [
        "x = [1, 2, 3, 5, 8, 7, 6]\n",
        "print(average(cumsum([i ** 2 for i in x])))"
      ],
      "execution_count": 3,
      "outputs": [
        {
          "output_type": "stream",
          "text": [
            "71.71428571428571\n"
          ],
          "name": "stdout"
        }
      ]
    },
    {
      "metadata": {
        "id": "fUutmVF_3VJN",
        "colab_type": "text"
      },
      "cell_type": "markdown",
      "source": [
        "### 4.5 Importing Libraries\n",
        "\n",
        "Python has an extensive collection of external libraries whoch contains many standard functions required for different applications.\n",
        "\n",
        "External libraries are used with the `import <libname>` keyword. You can also use `from <libname> import <funcname>` for individual functions. Within a library a function is referenced as `<libname>.<funcname>`. You can import a library using a custom name by `import <libname> as <customname>`."
      ]
    },
    {
      "metadata": {
        "id": "GENFKplk3VJN",
        "colab_type": "code",
        "colab": {
          "base_uri": "https://localhost:8080/",
          "height": 35
        },
        "outputId": "b9d935cb-de8f-4417-aaec-e68f3dc8dcad"
      },
      "cell_type": "code",
      "source": [
        "import numpy as np\n",
        "\n",
        "x = [1, 2, 3, 5, 8, 7, 6]\n",
        "print(np.mean(np.cumsum([i ** 2 for i in x])))"
      ],
      "execution_count": 4,
      "outputs": [
        {
          "output_type": "stream",
          "text": [
            "71.71428571428571\n"
          ],
          "name": "stdout"
        }
      ]
    },
    {
      "metadata": {
        "id": "J2WgVglplPyH",
        "colab_type": "text"
      },
      "cell_type": "markdown",
      "source": [
        "## 5 File I/O\n",
        "\n",
        "* **`open()`** returns a file object, and is most commonly used with two arguments:  filename and mode. The common modes are:\n",
        "    * r: read-only\n",
        "    * w: overwrite\n",
        "    * a: append\n",
        "\n",
        "* **`close()`** closes a file object.\n",
        "* Use **`with`** for handling files to enable automatic closing.\n",
        "* There are many ways to read from or write into a file. Use `for` loop to iterate through a file and use `print()` command with **`file=file_handle`** to write."
      ]
    },
    {
      "metadata": {
        "id": "7kS6UFytzKE8",
        "colab_type": "code",
        "colab": {
          "base_uri": "https://localhost:8080/",
          "height": 89
        },
        "outputId": "93d6c7c4-f5c5-44ef-9999-797a64abc9ef"
      },
      "cell_type": "code",
      "source": [
        "fout = open('test_file.txt', 'w')\n",
        "print(\"This is the first line.\", file=fout)\n",
        "print(\"This is the second line.\", file=fout)\n",
        "print(\"This is the last line.\", file=fout)\n",
        "fout.close()\n",
        "\n",
        "with open('test_file.txt') as fin:\n",
        "    print(\"Reading from test_file.txt that we just wrote to.\")\n",
        "    for line in fin:\n",
        "        print(line, end='')"
      ],
      "execution_count": 36,
      "outputs": [
        {
          "output_type": "stream",
          "text": [
            "Reading from test_file.txt that we just wrote to.\n",
            "This is the first line.\n",
            "This is the second line.\n",
            "This is the last line.\n"
          ],
          "name": "stdout"
        }
      ]
    },
    {
      "metadata": {
        "id": "FNpJ4IWn0wO1",
        "colab_type": "text"
      },
      "cell_type": "markdown",
      "source": [
        "## 6 Classes\n",
        "\n",
        "A class is declared as follows:\n",
        "```python\n",
        "class class_name:\n",
        "    methods (functions)```\n",
        "All variables in pythons are objects. Objects are instances of a class."
      ]
    },
    {
      "metadata": {
        "id": "iWdvTQTv1igV",
        "colab_type": "code",
        "colab": {
          "base_uri": "https://localhost:8080/",
          "height": 71
        },
        "outputId": "31657816-1f4b-45f5-957a-dddfd3b0b28b"
      },
      "cell_type": "code",
      "source": [
        "class Counter:\n",
        "    def __init__(self, init=0):\n",
        "        self.count = init\n",
        "    def reset(self):\n",
        "        self.count = 0\n",
        "    def getCount(self):\n",
        "        self.count += 1\n",
        "        return self.count\n",
        "\n",
        "counter = Counter(5)\n",
        "print(\"Initial value of counter:\", counter.count)\n",
        "counter.reset()\n",
        "print(\"Value of counter after reset:\", counter.count)\n",
        "print(\"one =\",counter.getCount(),\"two =\",counter.getCount(),\"three =\",counter.getCount())"
      ],
      "execution_count": 41,
      "outputs": [
        {
          "output_type": "stream",
          "text": [
            "Initial value of counter: 5\n",
            "Value of counter after reset: 0\n",
            "one = 1 two = 2 three = 3\n"
          ],
          "name": "stdout"
        }
      ]
    },
    {
      "metadata": {
        "id": "lCO6WdU92b-y",
        "colab_type": "text"
      },
      "cell_type": "markdown",
      "source": [
        "# Intro to Useful Libraries"
      ]
    },
    {
      "metadata": {
        "id": "Pen7v4xBpRpz",
        "colab_type": "text"
      },
      "cell_type": "markdown",
      "source": [
        "## 1. Pandas \n",
        "\n",
        "pandas is a column-oriented data analysis API. It's a great tool for handling and analyzing input data, and many ML frameworks support pandas data structures as inputs.\n",
        "\n",
        "The primary data structures in pandas are implemented as two classes:\n",
        "\n",
        "  * **`DataFrame`**, which you can imagine as a relational data table, with rows and named columns.\n",
        "  * **`Series`**, which is a single column. A `DataFrame` contains one or more `Series` and a name for each `Series`.\n",
        "  \n",
        "`DataFrame` objects can be created by passing a `dict` mapping `string` column names to their respective `Series`. If the `Series` don't match in length, missing values are filled with special NA/NaN."
      ]
    },
    {
      "metadata": {
        "id": "FpPhE-qEpwjI",
        "colab_type": "code",
        "colab": {
          "base_uri": "https://localhost:8080/",
          "height": 142
        },
        "outputId": "e6c455cc-affb-4917-9f3f-3b0cc9c90f51"
      },
      "cell_type": "code",
      "source": [
        "import pandas as pd\n",
        "city_names = pd.Series(['San Francisco', 'San Jose', 'Sacramento'])\n",
        "population = pd.Series([852469, 1015785, 485199])\n",
        "\n",
        "cities = pd.DataFrame({ 'City name': city_names, 'Population': population })\n",
        "cities"
      ],
      "execution_count": 16,
      "outputs": [
        {
          "output_type": "execute_result",
          "data": {
            "text/html": [
              "<div>\n",
              "<style scoped>\n",
              "    .dataframe tbody tr th:only-of-type {\n",
              "        vertical-align: middle;\n",
              "    }\n",
              "\n",
              "    .dataframe tbody tr th {\n",
              "        vertical-align: top;\n",
              "    }\n",
              "\n",
              "    .dataframe thead th {\n",
              "        text-align: right;\n",
              "    }\n",
              "</style>\n",
              "<table border=\"1\" class=\"dataframe\">\n",
              "  <thead>\n",
              "    <tr style=\"text-align: right;\">\n",
              "      <th></th>\n",
              "      <th>City name</th>\n",
              "      <th>Population</th>\n",
              "    </tr>\n",
              "  </thead>\n",
              "  <tbody>\n",
              "    <tr>\n",
              "      <th>0</th>\n",
              "      <td>San Francisco</td>\n",
              "      <td>852469</td>\n",
              "    </tr>\n",
              "    <tr>\n",
              "      <th>1</th>\n",
              "      <td>San Jose</td>\n",
              "      <td>1015785</td>\n",
              "    </tr>\n",
              "    <tr>\n",
              "      <th>2</th>\n",
              "      <td>Sacramento</td>\n",
              "      <td>485199</td>\n",
              "    </tr>\n",
              "  </tbody>\n",
              "</table>\n",
              "</div>"
            ],
            "text/plain": [
              "       City name  Population\n",
              "0  San Francisco      852469\n",
              "1       San Jose     1015785\n",
              "2     Sacramento      485199"
            ]
          },
          "metadata": {
            "tags": []
          },
          "execution_count": 16
        }
      ]
    },
    {
      "metadata": {
        "id": "YxQ8riZJqiF7",
        "colab_type": "text"
      },
      "cell_type": "markdown",
      "source": [
        "But most of the time, you load an entire file into a DataFrame. The following example loads a file with California housing data.\n",
        "\n",
        "* The **`describe()`**  function shows interesting statistics about a `DataFrame`.\n",
        "* Another useful function is **`head()`**, which displays the first few records of a `DataFrame`. Similarly, **`tail()`** displays the last dew records.\n",
        "* Another powerful feature is graphing. For example, **`hist()`** lets you quickly study the distribution of values in a column."
      ]
    },
    {
      "metadata": {
        "id": "acBYRgSVqlx4",
        "colab_type": "code",
        "colab": {
          "base_uri": "https://localhost:8080/",
          "height": 317
        },
        "outputId": "02713735-1619-42cf-d983-5fcd227972f6"
      },
      "cell_type": "code",
      "source": [
        "housing_dataframe = pd.read_csv(\"https://storage.googleapis.com/mledu-datasets/california_housing_train.csv\", sep=\",\")\n",
        "housing_dataframe.describe()"
      ],
      "execution_count": 9,
      "outputs": [
        {
          "output_type": "execute_result",
          "data": {
            "text/html": [
              "<div>\n",
              "<style scoped>\n",
              "    .dataframe tbody tr th:only-of-type {\n",
              "        vertical-align: middle;\n",
              "    }\n",
              "\n",
              "    .dataframe tbody tr th {\n",
              "        vertical-align: top;\n",
              "    }\n",
              "\n",
              "    .dataframe thead th {\n",
              "        text-align: right;\n",
              "    }\n",
              "</style>\n",
              "<table border=\"1\" class=\"dataframe\">\n",
              "  <thead>\n",
              "    <tr style=\"text-align: right;\">\n",
              "      <th></th>\n",
              "      <th>longitude</th>\n",
              "      <th>latitude</th>\n",
              "      <th>housing_median_age</th>\n",
              "      <th>total_rooms</th>\n",
              "      <th>total_bedrooms</th>\n",
              "      <th>population</th>\n",
              "      <th>households</th>\n",
              "      <th>median_income</th>\n",
              "      <th>median_house_value</th>\n",
              "    </tr>\n",
              "  </thead>\n",
              "  <tbody>\n",
              "    <tr>\n",
              "      <th>count</th>\n",
              "      <td>17000.000000</td>\n",
              "      <td>17000.000000</td>\n",
              "      <td>17000.000000</td>\n",
              "      <td>17000.000000</td>\n",
              "      <td>17000.000000</td>\n",
              "      <td>17000.000000</td>\n",
              "      <td>17000.000000</td>\n",
              "      <td>17000.000000</td>\n",
              "      <td>17000.000000</td>\n",
              "    </tr>\n",
              "    <tr>\n",
              "      <th>mean</th>\n",
              "      <td>-119.562108</td>\n",
              "      <td>35.625225</td>\n",
              "      <td>28.589353</td>\n",
              "      <td>2643.664412</td>\n",
              "      <td>539.410824</td>\n",
              "      <td>1429.573941</td>\n",
              "      <td>501.221941</td>\n",
              "      <td>3.883578</td>\n",
              "      <td>207300.912353</td>\n",
              "    </tr>\n",
              "    <tr>\n",
              "      <th>std</th>\n",
              "      <td>2.005166</td>\n",
              "      <td>2.137340</td>\n",
              "      <td>12.586937</td>\n",
              "      <td>2179.947071</td>\n",
              "      <td>421.499452</td>\n",
              "      <td>1147.852959</td>\n",
              "      <td>384.520841</td>\n",
              "      <td>1.908157</td>\n",
              "      <td>115983.764387</td>\n",
              "    </tr>\n",
              "    <tr>\n",
              "      <th>min</th>\n",
              "      <td>-124.350000</td>\n",
              "      <td>32.540000</td>\n",
              "      <td>1.000000</td>\n",
              "      <td>2.000000</td>\n",
              "      <td>1.000000</td>\n",
              "      <td>3.000000</td>\n",
              "      <td>1.000000</td>\n",
              "      <td>0.499900</td>\n",
              "      <td>14999.000000</td>\n",
              "    </tr>\n",
              "    <tr>\n",
              "      <th>25%</th>\n",
              "      <td>-121.790000</td>\n",
              "      <td>33.930000</td>\n",
              "      <td>18.000000</td>\n",
              "      <td>1462.000000</td>\n",
              "      <td>297.000000</td>\n",
              "      <td>790.000000</td>\n",
              "      <td>282.000000</td>\n",
              "      <td>2.566375</td>\n",
              "      <td>119400.000000</td>\n",
              "    </tr>\n",
              "    <tr>\n",
              "      <th>50%</th>\n",
              "      <td>-118.490000</td>\n",
              "      <td>34.250000</td>\n",
              "      <td>29.000000</td>\n",
              "      <td>2127.000000</td>\n",
              "      <td>434.000000</td>\n",
              "      <td>1167.000000</td>\n",
              "      <td>409.000000</td>\n",
              "      <td>3.544600</td>\n",
              "      <td>180400.000000</td>\n",
              "    </tr>\n",
              "    <tr>\n",
              "      <th>75%</th>\n",
              "      <td>-118.000000</td>\n",
              "      <td>37.720000</td>\n",
              "      <td>37.000000</td>\n",
              "      <td>3151.250000</td>\n",
              "      <td>648.250000</td>\n",
              "      <td>1721.000000</td>\n",
              "      <td>605.250000</td>\n",
              "      <td>4.767000</td>\n",
              "      <td>265000.000000</td>\n",
              "    </tr>\n",
              "    <tr>\n",
              "      <th>max</th>\n",
              "      <td>-114.310000</td>\n",
              "      <td>41.950000</td>\n",
              "      <td>52.000000</td>\n",
              "      <td>37937.000000</td>\n",
              "      <td>6445.000000</td>\n",
              "      <td>35682.000000</td>\n",
              "      <td>6082.000000</td>\n",
              "      <td>15.000100</td>\n",
              "      <td>500001.000000</td>\n",
              "    </tr>\n",
              "  </tbody>\n",
              "</table>\n",
              "</div>"
            ],
            "text/plain": [
              "          longitude      latitude  housing_median_age   total_rooms  \\\n",
              "count  17000.000000  17000.000000        17000.000000  17000.000000   \n",
              "mean    -119.562108     35.625225           28.589353   2643.664412   \n",
              "std        2.005166      2.137340           12.586937   2179.947071   \n",
              "min     -124.350000     32.540000            1.000000      2.000000   \n",
              "25%     -121.790000     33.930000           18.000000   1462.000000   \n",
              "50%     -118.490000     34.250000           29.000000   2127.000000   \n",
              "75%     -118.000000     37.720000           37.000000   3151.250000   \n",
              "max     -114.310000     41.950000           52.000000  37937.000000   \n",
              "\n",
              "       total_bedrooms    population    households  median_income  \\\n",
              "count    17000.000000  17000.000000  17000.000000   17000.000000   \n",
              "mean       539.410824   1429.573941    501.221941       3.883578   \n",
              "std        421.499452   1147.852959    384.520841       1.908157   \n",
              "min          1.000000      3.000000      1.000000       0.499900   \n",
              "25%        297.000000    790.000000    282.000000       2.566375   \n",
              "50%        434.000000   1167.000000    409.000000       3.544600   \n",
              "75%        648.250000   1721.000000    605.250000       4.767000   \n",
              "max       6445.000000  35682.000000   6082.000000      15.000100   \n",
              "\n",
              "       median_house_value  \n",
              "count        17000.000000  \n",
              "mean        207300.912353  \n",
              "std         115983.764387  \n",
              "min          14999.000000  \n",
              "25%         119400.000000  \n",
              "50%         180400.000000  \n",
              "75%         265000.000000  \n",
              "max         500001.000000  "
            ]
          },
          "metadata": {
            "tags": []
          },
          "execution_count": 9
        }
      ]
    },
    {
      "metadata": {
        "id": "mUeOr6ujrVjf",
        "colab_type": "code",
        "colab": {
          "base_uri": "https://localhost:8080/",
          "height": 204
        },
        "outputId": "4ce7642b-fe8d-4647-9af2-2b3bb84487a4"
      },
      "cell_type": "code",
      "source": [
        "housing_dataframe.head()"
      ],
      "execution_count": 10,
      "outputs": [
        {
          "output_type": "execute_result",
          "data": {
            "text/html": [
              "<div>\n",
              "<style scoped>\n",
              "    .dataframe tbody tr th:only-of-type {\n",
              "        vertical-align: middle;\n",
              "    }\n",
              "\n",
              "    .dataframe tbody tr th {\n",
              "        vertical-align: top;\n",
              "    }\n",
              "\n",
              "    .dataframe thead th {\n",
              "        text-align: right;\n",
              "    }\n",
              "</style>\n",
              "<table border=\"1\" class=\"dataframe\">\n",
              "  <thead>\n",
              "    <tr style=\"text-align: right;\">\n",
              "      <th></th>\n",
              "      <th>longitude</th>\n",
              "      <th>latitude</th>\n",
              "      <th>housing_median_age</th>\n",
              "      <th>total_rooms</th>\n",
              "      <th>total_bedrooms</th>\n",
              "      <th>population</th>\n",
              "      <th>households</th>\n",
              "      <th>median_income</th>\n",
              "      <th>median_house_value</th>\n",
              "    </tr>\n",
              "  </thead>\n",
              "  <tbody>\n",
              "    <tr>\n",
              "      <th>0</th>\n",
              "      <td>-114.31</td>\n",
              "      <td>34.19</td>\n",
              "      <td>15.0</td>\n",
              "      <td>5612.0</td>\n",
              "      <td>1283.0</td>\n",
              "      <td>1015.0</td>\n",
              "      <td>472.0</td>\n",
              "      <td>1.4936</td>\n",
              "      <td>66900.0</td>\n",
              "    </tr>\n",
              "    <tr>\n",
              "      <th>1</th>\n",
              "      <td>-114.47</td>\n",
              "      <td>34.40</td>\n",
              "      <td>19.0</td>\n",
              "      <td>7650.0</td>\n",
              "      <td>1901.0</td>\n",
              "      <td>1129.0</td>\n",
              "      <td>463.0</td>\n",
              "      <td>1.8200</td>\n",
              "      <td>80100.0</td>\n",
              "    </tr>\n",
              "    <tr>\n",
              "      <th>2</th>\n",
              "      <td>-114.56</td>\n",
              "      <td>33.69</td>\n",
              "      <td>17.0</td>\n",
              "      <td>720.0</td>\n",
              "      <td>174.0</td>\n",
              "      <td>333.0</td>\n",
              "      <td>117.0</td>\n",
              "      <td>1.6509</td>\n",
              "      <td>85700.0</td>\n",
              "    </tr>\n",
              "    <tr>\n",
              "      <th>3</th>\n",
              "      <td>-114.57</td>\n",
              "      <td>33.64</td>\n",
              "      <td>14.0</td>\n",
              "      <td>1501.0</td>\n",
              "      <td>337.0</td>\n",
              "      <td>515.0</td>\n",
              "      <td>226.0</td>\n",
              "      <td>3.1917</td>\n",
              "      <td>73400.0</td>\n",
              "    </tr>\n",
              "    <tr>\n",
              "      <th>4</th>\n",
              "      <td>-114.57</td>\n",
              "      <td>33.57</td>\n",
              "      <td>20.0</td>\n",
              "      <td>1454.0</td>\n",
              "      <td>326.0</td>\n",
              "      <td>624.0</td>\n",
              "      <td>262.0</td>\n",
              "      <td>1.9250</td>\n",
              "      <td>65500.0</td>\n",
              "    </tr>\n",
              "  </tbody>\n",
              "</table>\n",
              "</div>"
            ],
            "text/plain": [
              "   longitude  latitude  housing_median_age  total_rooms  total_bedrooms  \\\n",
              "0    -114.31     34.19                15.0       5612.0          1283.0   \n",
              "1    -114.47     34.40                19.0       7650.0          1901.0   \n",
              "2    -114.56     33.69                17.0        720.0           174.0   \n",
              "3    -114.57     33.64                14.0       1501.0           337.0   \n",
              "4    -114.57     33.57                20.0       1454.0           326.0   \n",
              "\n",
              "   population  households  median_income  median_house_value  \n",
              "0      1015.0       472.0         1.4936             66900.0  \n",
              "1      1129.0       463.0         1.8200             80100.0  \n",
              "2       333.0       117.0         1.6509             85700.0  \n",
              "3       515.0       226.0         3.1917             73400.0  \n",
              "4       624.0       262.0         1.9250             65500.0  "
            ]
          },
          "metadata": {
            "tags": []
          },
          "execution_count": 10
        }
      ]
    },
    {
      "metadata": {
        "id": "giz68R2Xron_",
        "colab_type": "code",
        "colab": {
          "base_uri": "https://localhost:8080/",
          "height": 398
        },
        "outputId": "0ae49e89-ee09-4c69-e27d-4ae862ba335f"
      },
      "cell_type": "code",
      "source": [
        "housing_dataframe.hist('median_income')"
      ],
      "execution_count": 14,
      "outputs": [
        {
          "output_type": "execute_result",
          "data": {
            "text/plain": [
              "array([[<matplotlib.axes._subplots.AxesSubplot object at 0x7fabc6b7e390>]],\n",
              "      dtype=object)"
            ]
          },
          "metadata": {
            "tags": []
          },
          "execution_count": 14
        },
        {
          "output_type": "display_data",
          "data": {
            "image/png": "[encoded data removed]",
            "text/plain": [
              "<matplotlib.figure.Figure at 0x7fabc6b5e7f0>"
            ]
          },
          "metadata": {
            "tags": []
          }
        }
      ]
    },
    {
      "metadata": {
        "id": "ssku-havsGSI",
        "colab_type": "text"
      },
      "cell_type": "markdown",
      "source": [
        "You can access DataFrame data using familiar Python dict/list operations. You may apply Python's basic arithmetic operations to Series. Modifying DataFrames is also straightforward."
      ]
    },
    {
      "metadata": {
        "id": "iOcxg-pnsbR4",
        "colab_type": "code",
        "colab": {
          "base_uri": "https://localhost:8080/",
          "height": 142
        },
        "outputId": "1b92987c-92ce-4292-d561-824003a76fa4"
      },
      "cell_type": "code",
      "source": [
        "cities['Area square miles'] = pd.Series([46.87, 176.53, 97.92])\n",
        "cities['Population density'] = cities['Population'] / cities['Area square miles']\n",
        "cities"
      ],
      "execution_count": 26,
      "outputs": [
        {
          "output_type": "execute_result",
          "data": {
            "text/html": [
              "<div>\n",
              "<style scoped>\n",
              "    .dataframe tbody tr th:only-of-type {\n",
              "        vertical-align: middle;\n",
              "    }\n",
              "\n",
              "    .dataframe tbody tr th {\n",
              "        vertical-align: top;\n",
              "    }\n",
              "\n",
              "    .dataframe thead th {\n",
              "        text-align: right;\n",
              "    }\n",
              "</style>\n",
              "<table border=\"1\" class=\"dataframe\">\n",
              "  <thead>\n",
              "    <tr style=\"text-align: right;\">\n",
              "      <th></th>\n",
              "      <th>City name</th>\n",
              "      <th>Population</th>\n",
              "      <th>Area square miles</th>\n",
              "      <th>Population density</th>\n",
              "    </tr>\n",
              "  </thead>\n",
              "  <tbody>\n",
              "    <tr>\n",
              "      <th>0</th>\n",
              "      <td>San Francisco</td>\n",
              "      <td>852469</td>\n",
              "      <td>46.87</td>\n",
              "      <td>18187.945381</td>\n",
              "    </tr>\n",
              "    <tr>\n",
              "      <th>1</th>\n",
              "      <td>San Jose</td>\n",
              "      <td>1015785</td>\n",
              "      <td>176.53</td>\n",
              "      <td>5754.177760</td>\n",
              "    </tr>\n",
              "    <tr>\n",
              "      <th>2</th>\n",
              "      <td>Sacramento</td>\n",
              "      <td>485199</td>\n",
              "      <td>97.92</td>\n",
              "      <td>4955.055147</td>\n",
              "    </tr>\n",
              "  </tbody>\n",
              "</table>\n",
              "</div>"
            ],
            "text/plain": [
              "       City name  Population  Area square miles  Population density\n",
              "0  San Francisco      852469              46.87        18187.945381\n",
              "1       San Jose     1015785             176.53         5754.177760\n",
              "2     Sacramento      485199              97.92         4955.055147"
            ]
          },
          "metadata": {
            "tags": []
          },
          "execution_count": 26
        }
      ]
    },
    {
      "metadata": {
        "id": "WBz9WHQQwtPu",
        "colab_type": "text"
      },
      "cell_type": "markdown",
      "source": [
        "For more complex single-column transformations, you can use **`apply()`**. It accepts as an argument a lambda function, which is applied to each value."
      ]
    },
    {
      "metadata": {
        "id": "6_oJMLVVw6I6",
        "colab_type": "code",
        "colab": {
          "base_uri": "https://localhost:8080/",
          "height": 142
        },
        "outputId": "d82ccced-f24f-4a01-cc23-b3cd55993198"
      },
      "cell_type": "code",
      "source": [
        "cities['Overpopulated'] = cities['Population'].apply(lambda val: val > 1000000)\n",
        "cities"
      ],
      "execution_count": 28,
      "outputs": [
        {
          "output_type": "execute_result",
          "data": {
            "text/html": [
              "<div>\n",
              "<style scoped>\n",
              "    .dataframe tbody tr th:only-of-type {\n",
              "        vertical-align: middle;\n",
              "    }\n",
              "\n",
              "    .dataframe tbody tr th {\n",
              "        vertical-align: top;\n",
              "    }\n",
              "\n",
              "    .dataframe thead th {\n",
              "        text-align: right;\n",
              "    }\n",
              "</style>\n",
              "<table border=\"1\" class=\"dataframe\">\n",
              "  <thead>\n",
              "    <tr style=\"text-align: right;\">\n",
              "      <th></th>\n",
              "      <th>City name</th>\n",
              "      <th>Population</th>\n",
              "      <th>Area square miles</th>\n",
              "      <th>Population density</th>\n",
              "      <th>Overpopulated</th>\n",
              "    </tr>\n",
              "  </thead>\n",
              "  <tbody>\n",
              "    <tr>\n",
              "      <th>0</th>\n",
              "      <td>San Francisco</td>\n",
              "      <td>852469</td>\n",
              "      <td>46.87</td>\n",
              "      <td>18187.945381</td>\n",
              "      <td>False</td>\n",
              "    </tr>\n",
              "    <tr>\n",
              "      <th>1</th>\n",
              "      <td>San Jose</td>\n",
              "      <td>1015785</td>\n",
              "      <td>176.53</td>\n",
              "      <td>5754.177760</td>\n",
              "      <td>True</td>\n",
              "    </tr>\n",
              "    <tr>\n",
              "      <th>2</th>\n",
              "      <td>Sacramento</td>\n",
              "      <td>485199</td>\n",
              "      <td>97.92</td>\n",
              "      <td>4955.055147</td>\n",
              "      <td>False</td>\n",
              "    </tr>\n",
              "  </tbody>\n",
              "</table>\n",
              "</div>"
            ],
            "text/plain": [
              "       City name  Population  Area square miles  Population density  \\\n",
              "0  San Francisco      852469              46.87        18187.945381   \n",
              "1       San Jose     1015785             176.53         5754.177760   \n",
              "2     Sacramento      485199              97.92         4955.055147   \n",
              "\n",
              "   Overpopulated  \n",
              "0          False  \n",
              "1           True  \n",
              "2          False  "
            ]
          },
          "metadata": {
            "tags": []
          },
          "execution_count": 28
        }
      ]
    },
    {
      "metadata": {
        "id": "XC1TozbU3HQk",
        "colab_type": "text"
      },
      "cell_type": "markdown",
      "source": [
        "## 2 Numpy\n",
        "\n",
        "NumPy’s main object is the homogeneous multidimensional array. It is a table of elements (usually numbers), all of the same type, indexed by a tuple of positive integers. NumPy’s array class is called ndarray.\n",
        "\n",
        "You can create an array from a regular Python list or tuple using the **`array()`** function. Some important attributes of an ndarray object are:\n",
        "\n",
        "* **`ndarray.ndim`**: the number of axes (dimensions) of the array.\n",
        "* **`ndarray.shape`**: the dimensions of the array. The length of the shape tuple is therefore the number of axes, ndim.\n",
        "* **`ndarray.size`**: the total number of elements of the array. This is equal to the product of the elements of shape.\n",
        "* **`ndarray.dtype`**: an object describing the type of the elements in the array. One can create or specify dtype’s using standard Python types. Additionally NumPy provides types of its own. numpy.int32, numpy.int16, and numpy.float64 are some examples.\n",
        "* **`ndarray.data`**: the buffer containing the actual elements of the array. Normally, we won’t need to use this attribute because we will access the elements in an array using indexing facilities.\n",
        "\n",
        "There are numerous other ways to initialize an array like **`zeros`**, **`zeros_like`**, **`ones`**, **`ones_like`**, **`empty`**, **`empty_like`**, **`arange`**, **`linspace`**, **`numpy.random.rand`**, **`numpy.random.randn`**, etc."
      ]
    },
    {
      "metadata": {
        "id": "szkmteik7I8Y",
        "colab_type": "code",
        "colab": {
          "base_uri": "https://localhost:8080/",
          "height": 323
        },
        "outputId": "ab473ec3-8d41-41e0-f8fb-ed2eed72fa62"
      },
      "cell_type": "code",
      "source": [
        "import numpy as np\n",
        "array1 = np.array([1, 3, 8, 2, 6])\n",
        "print(\"Shape of array1 is\", array1.shape)\n",
        "array2 = np.array([[1, 3, 8, 2, 6], [12, 1, 2, 5, 4]])\n",
        "print(\"No of dim in array2 is\", array2.ndim)\n",
        "print(\"Shape of array2 is\", array2.shape)\n",
        "print(\"Size of array2 is\", array2.size)\n",
        "print(\"Data type of array2 is\", array2.dtype)\n",
        "print(\"Array creation using ones gives\\n\", np.ones((2, 5, 2)))"
      ],
      "execution_count": 45,
      "outputs": [
        {
          "output_type": "stream",
          "text": [
            "Shape of array1 is (5,)\n",
            "No of dim in array2 is 2\n",
            "Shape of array2 is (2, 5)\n",
            "Size of array2 is 10\n",
            "Data type of array2 is int64\n",
            "Array creation using ones gives\n",
            " [[[1. 1.]\n",
            "  [1. 1.]\n",
            "  [1. 1.]\n",
            "  [1. 1.]\n",
            "  [1. 1.]]\n",
            "\n",
            " [[1. 1.]\n",
            "  [1. 1.]\n",
            "  [1. 1.]\n",
            "  [1. 1.]\n",
            "  [1. 1.]]]\n"
          ],
          "name": "stdout"
        }
      ]
    },
    {
      "metadata": {
        "id": "ycYpdJZ687fu",
        "colab_type": "text"
      },
      "cell_type": "markdown",
      "source": [
        "Arithmetic operators on arrays apply elementwise. A new array is created and filled with the result.\n",
        "\n",
        "One-dimensional arrays can be indexed, sliced and iterated over, much like lists and other Python sequences. Multidimensional arrays can have one index per axis. These indices are given in a tuple separated by commas.\n",
        "\n",
        "The shape of an array can be changed by **`reshape()`** command. It returns a modified array, but does not change the original array. There are other shape changing commands like **`ravel()`**, **`T`**, etc.\n",
        "\n"
      ]
    },
    {
      "metadata": {
        "id": "AwzxHD9-9A6j",
        "colab_type": "code",
        "colab": {
          "base_uri": "https://localhost:8080/",
          "height": 395
        },
        "outputId": "329380e5-aadf-4bf3-bc5b-49128fc48c7d"
      },
      "cell_type": "code",
      "source": [
        "array1 = np.random.randint(1, 10, size=(3, 6))\n",
        "print(\"Original array:\\n\", array1)\n",
        "print(\"\\nSquared array:\\n\", array1 ** 2)\n",
        "print(\"\\nLog of array:\\n\", np.log(array1))\n",
        "print(\"\\nMulti-dimensional slicing:\\n\", array1[2, 1:5])\n",
        "print(\"\\nReshaped array:\\n\", array1.reshape(2, 9))"
      ],
      "execution_count": 56,
      "outputs": [
        {
          "output_type": "stream",
          "text": [
            "Original array:\n",
            " [[9 1 8 3 6 3]\n",
            " [8 2 9 5 8 5]\n",
            " [4 1 5 1 7 8]]\n",
            "\n",
            "Squared array:\n",
            " [[81  1 64  9 36  9]\n",
            " [64  4 81 25 64 25]\n",
            " [16  1 25  1 49 64]]\n",
            "\n",
            "Log of array:\n",
            " [[2.19722458 0.         2.07944154 1.09861229 1.79175947 1.09861229]\n",
            " [2.07944154 0.69314718 2.19722458 1.60943791 2.07944154 1.60943791]\n",
            " [1.38629436 0.         1.60943791 0.         1.94591015 2.07944154]]\n",
            "\n",
            "Multi-dimensional slicing:\n",
            " [1 5 1 7]\n",
            "\n",
            "Reshaped array:\n",
            " [[9 1 8 3 6 3 8 2 9]\n",
            " [5 8 5 4 1 5 1 7 8]]\n"
          ],
          "name": "stdout"
        }
      ]
    },
    {
      "metadata": {
        "id": "JnblLmWI3Kzq",
        "colab_type": "text"
      },
      "cell_type": "markdown",
      "source": [
        "## 3 Matplotlib\n",
        "matplotlib.pyplot is a collection of command style functions that make matplotlib work like MATLAB. Each pyplot function makes some change to a figure: e.g., creates a figure, creates a plotting area in a figure, plots some lines in a plotting area, decorates the plot with labels, etc.\n",
        "\n",
        "The two most important commands are **`plot()`** and **`show()`**. Without further discussion let's just look at an example."
      ]
    },
    {
      "metadata": {
        "id": "_xNso2yi_2GL",
        "colab_type": "code",
        "colab": {
          "base_uri": "https://localhost:8080/",
          "height": 347
        },
        "outputId": "94c22244-e447-4b17-c866-76111b8c6a02"
      },
      "cell_type": "code",
      "source": [
        "import matplotlib.pyplot as plt\n",
        "plt.plot([1, 2, 3, 4])\n",
        "plt.ylabel('some numbers')\n",
        "plt.show()"
      ],
      "execution_count": 57,
      "outputs": [
        {
          "output_type": "display_data",
          "data": {
            "image/png": "[encoded data removed]",
            "text/plain": [
              "<matplotlib.figure.Figure at 0x7fabc6866898>"
            ]
          },
          "metadata": {
            "tags": []
          }
        }
      ]
    },
    {
      "metadata": {
        "id": "oEu6go3tAFCw",
        "colab_type": "text"
      },
      "cell_type": "markdown",
      "source": [
        " If you provide a single list or array to the plot() command, matplotlib assumes it is a sequence of y values, and automatically generates the x values for you. So let's try something else."
      ]
    },
    {
      "metadata": {
        "id": "iGstZ6YuAL5s",
        "colab_type": "code",
        "colab": {
          "base_uri": "https://localhost:8080/",
          "height": 365
        },
        "outputId": "5deb39b5-8a45-49bd-ad66-779b2ffe6541"
      },
      "cell_type": "code",
      "source": [
        "plt.plot([1, 2, 3, 4], [1, 4, 9, 16])"
      ],
      "execution_count": 58,
      "outputs": [
        {
          "output_type": "execute_result",
          "data": {
            "text/plain": [
              "[<matplotlib.lines.Line2D at 0x7fabc67852b0>]"
            ]
          },
          "metadata": {
            "tags": []
          },
          "execution_count": 58
        },
        {
          "output_type": "display_data",
          "data": {
            "image/png": "[encoded data removed]",
            "text/plain": [
              "<matplotlib.figure.Figure at 0x7fabc67ce2e8>"
            ]
          },
          "metadata": {
            "tags": []
          }
        }
      ]
    },
    {
      "metadata": {
        "id": "xgWiJ5FRAXDb",
        "colab_type": "text"
      },
      "cell_type": "markdown",
      "source": [
        "We can add further customization like axis labels, legend, caption, plot style, etc. You know what to do for more information."
      ]
    },
    {
      "metadata": {
        "id": "_9DXvBPdAeCS",
        "colab_type": "code",
        "colab": {
          "base_uri": "https://localhost:8080/",
          "height": 376
        },
        "outputId": "64c57413-1e38-48a3-e71a-c59a7300b96c"
      },
      "cell_type": "code",
      "source": [
        "import numpy as np\n",
        "t = np.arange(0., 5., 0.2)\n",
        "\n",
        "# red dashes, blue squares and green triangles\n",
        "plt.plot(t, t, 'r--', t, t**2, 'bs', t, t**3, 'g^')\n",
        "plt.xlabel('x axis')\n",
        "plt.ylabel('values')\n",
        "plt.title('Different powers of array t.')\n",
        "plt.legend(['linear', 'square', 'cube'])\n",
        "plt.show()"
      ],
      "execution_count": 64,
      "outputs": [
        {
          "output_type": "display_data",
          "data": {
            "image/png": "[encoded data removed]",
            "text/plain": [
              "<matplotlib.figure.Figure at 0x7fabc655ec18>"
            ]
          },
          "metadata": {
            "tags": []
          }
        }
      ]
    },
    {
      "metadata": {
        "id": "jPIQz_PRB0WD",
        "colab_type": "text"
      },
      "cell_type": "markdown",
      "source": [
        "One last example with multiple plots."
      ]
    },
    {
      "metadata": {
        "id": "mWSI_i2gB9_n",
        "colab_type": "code",
        "colab": {
          "base_uri": "https://localhost:8080/",
          "height": 233
        },
        "outputId": "9ba84d0a-7820-485f-d9a7-365a5b6e1323"
      },
      "cell_type": "code",
      "source": [
        "names = ['group_a', 'group_b', 'group_c']\n",
        "values = [1, 10, 100]\n",
        "\n",
        "plt.figure(1, figsize=(9, 3))\n",
        "\n",
        "plt.subplot(131)\n",
        "plt.bar(names, values)\n",
        "plt.subplot(132)\n",
        "plt.scatter(names, values)\n",
        "plt.subplot(133)\n",
        "plt.plot(names, values)\n",
        "plt.suptitle('Categorical Plotting')\n",
        "plt.show()"
      ],
      "execution_count": 66,
      "outputs": [
        {
          "output_type": "display_data",
          "data": {
            "image/png": "[encoded data removed]",
            "text/plain": [
              "<matplotlib.figure.Figure at 0x7fabc6439470>"
            ]
          },
          "metadata": {
            "tags": []
          }
        }
      ]
    },
    {
      "metadata": {
        "id": "OuHOFgSV73xj",
        "colab_type": "text"
      },
      "cell_type": "markdown",
      "source": [
        "# Useful Resources\n",
        "\n",
        "* [Head First Python - O'Reilly.](http://shop.oreilly.com/product/0636920003434.do)\n",
        "* [Python official documentation.](https://docs.python.org/3.6/)\n",
        "* [Matplotlib official user's guide.](https://matplotlib.org/users/index.html)\n",
        "* [Pandas official documentation.](https://pandas.pydata.org/pandas-docs/version/0.22/)\n",
        "* [Numpy official docmentation.](https://docs.scipy.org/doc/numpy-1.14.0/reference/)\n",
        "* [A gallery of interesting notebooks.](https://github.com/jupyter/jupyter/wiki/A-gallery-of-interesting-Jupyter-Notebooks)"
      ]
    },
    {
      "metadata": {
        "id": "ja5PHojK3VJT",
        "colab_type": "text"
      },
      "cell_type": "markdown",
      "source": [
        "# References\n",
        "\n",
        "* [Learn Python in 10 minutes by Stavros Korokithakis.](https://www.stavros.io/tutorials/python/)\n",
        "* [Python4maths repo  by Andreas Earnst.](https://gitlab.erc.monash.edu.au/andrease/Python4Maths)"
      ]
    }
  ]
}